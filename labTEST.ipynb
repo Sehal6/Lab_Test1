{
 "cells": [
  {
   "cell_type": "code",
   "execution_count": 35,
   "id": "bacb88cd-4439-4f9c-8f78-0e2826fa7962",
   "metadata": {},
   "outputs": [
    {
     "name": "stdout",
     "output_type": "stream",
     "text": [
      "Added Dolo with price 10 and quantity 50\n",
      "Added Digene with price 20 and quantity 30\n",
      "Added Nimuflex with price 15 and quantity 40\n",
      "Added Aspirin with price 20 and quantity 10\n",
      "Added Painkiller with price 10 and quantity 30\n",
      "Sold 30 of Dolo. Total sale: 300.0, Profit: 120.0\n",
      "Sold 5 of Digene. Total sale: 100.0, Profit: 40.0\n",
      "Current medicine stock:\n",
      "Dolo: Price = 10.0, Quantity = 20.0\n",
      "Digene: Price = 20.0, Quantity = 25.0\n",
      "Nimuflex: Price = 15.0, Quantity = 40.0\n",
      "Aspirin: Price = 20.0, Quantity = 10.0\n",
      "Painkiller: Price = 10.0, Quantity = 30.0\n",
      "Total Sales: 400.0, Total Profit: 160.0\n"
     ]
    },
    {
     "data": {
      "image/png": "[encoded data removed]",
      "text/plain": [
       "<Figure size 640x480 with 1 Axes>"
      ]
     },
     "metadata": {},
     "output_type": "display_data"
    }
   ],
   "source": [
    "import numpy as np\n",
    "import matplotlib.pyplot as plt\n",
    "\n",
    "class chemist:\n",
    "    def __init__(self):\n",
    "        \n",
    "        self.medicine_names = np.array([])\n",
    "        self.prices = np.array([])\n",
    "        self.quantities = np.array([])\n",
    "        self.sales = []\n",
    "        self.profits = []\n",
    "\n",
    "   \n",
    "    def add_medicine(self, name, price, quantity):\n",
    "        self.medicine_names = np.append(self.medicine_names, name)\n",
    "        self.prices = np.append(self.prices, price)\n",
    "        self.quantities = np.append(self.quantities, quantity)\n",
    "        print(f\"Added {name} with price {price} and quantity {quantity}\")\n",
    "\n",
    "   \n",
    "    def additem(self, name, price, quantity):\n",
    "        self.add_medicine(name, price, quantity)\n",
    "\n",
    "   \n",
    "    def updateqty(self, name, quantity_sold):\n",
    "        if name in self.medicine_names:\n",
    "            index = np.where(self.medicine_names == name)[0][0]\n",
    "            if self.quantities[index] >= quantity_sold:\n",
    "                self.quantities[index] -= quantity_sold\n",
    "                sale_amount = quantity_sold * self.prices[index]\n",
    "                profit = sale_amount * 0.4\n",
    "                self.sales.append(sale_amount)\n",
    "                self.profits.append(profit)\n",
    "                print(f\"Sold {quantity_sold} of {name}. Total sale: {sale_amount}, Profit: {profit}\")\n",
    "            else:\n",
    "                print(f\"Not enough {name} in stock!\")\n",
    "        else:\n",
    "            print(f\"{name} not found in inventory!\")\n",
    "\n",
    "   \n",
    "    def calsaleprofit(self):\n",
    "        total_sales = sum(self.sales)\n",
    "        total_profit = sum(self.profits)\n",
    "        print(f\"Total Sales: {total_sales}, Total Profit: {total_profit}\")\n",
    "        return total_sales, total_profit\n",
    "\n",
    "   \n",
    "    def display(self):\n",
    "        print(\"Current medicine stock:\")\n",
    "        for i in range(len(self.medicine_names)):\n",
    "            print(f\"{self.medicine_names[i]}: Price = {self.prices[i]}, Quantity = {self.quantities[i]}\")\n",
    "\n",
    "    \n",
    "    def plotting(self):\n",
    "        days = list(range(1, len(self.sales) + 1))\n",
    "        plt.scatter(days, self.sales, label='Sales', color='r')\n",
    "        plt.scatter(days, self.profits, label='Profit', color='b')\n",
    "        # plt.scatter(self.profits,self.sales, color='r')\n",
    "        \n",
    "        plt.xlabel('Day')\n",
    "        plt.ylabel('Amount cash')\n",
    "        # plt.xlabel('Profit')\n",
    "        # plt.ylabel('Sales')\n",
    "        plt.title('Total Sales and Profit')\n",
    "        plt.legend()\n",
    "        plt.show()\n",
    "\n",
    "\n",
    "shop = chemist()\n",
    "\n",
    "\n",
    "shop.additem(\"Dolo\", 10, 50)\n",
    "shop.additem(\"Digene\", 20, 30)\n",
    "shop.additem(\"Nimuflex\", 15, 40)\n",
    "shop.additem(\"Aspirin\", 20, 10)\n",
    "shop.additem(\"Painkiller\", 10, 30)\n",
    "\n",
    "\n",
    "shop.updateqty(\"Dolo\", 30)\n",
    "shop.updateqty(\"Digene\", 5)\n",
    "shop.display()\n",
    "shop.calsaleprofit()\n",
    "shop.plotting()\n"
   ]
  },
  {
   "cell_type": "code",
   "execution_count": null,
   "id": "bedafd95-62f4-4399-b1b5-ed13e691d30c",
   "metadata": {},
   "outputs": [],
   "source": []
  }
 ],
 "metadata": {
  "kernelspec": {
   "display_name": "Python 3 (ipykernel)",
   "language": "python",
   "name": "python3"
  },
  "language_info": {
   "codemirror_mode": {
    "name": "ipython",
    "version": 3
   },
   "file_extension": ".py",
   "mimetype": "text/x-python",
   "name": "python",
   "nbconvert_exporter": "python",
   "pygments_lexer": "ipython3",
   "version": "3.12.4"
  }
 },
 "nbformat": 4,
 "nbformat_minor": 5
}
